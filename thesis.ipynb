{
 "cells": [
  {
   "cell_type": "code",
   "execution_count": 1,
   "metadata": {},
   "outputs": [],
   "source": [
    "import numpy as np\n",
    "import pandas as pd"
   ]
  },
  {
   "cell_type": "code",
   "execution_count": 2,
   "metadata": {},
   "outputs": [],
   "source": [
    "mar2003_raw = pd.read_csv('mar2003.csv', sep=';', low_memory=False)"
   ]
  },
  {
   "cell_type": "code",
   "execution_count": 3,
   "metadata": {
    "scrolled": false
   },
   "outputs": [
    {
     "name": "stdout",
     "output_type": "stream",
     "text": [
      "<class 'pandas.core.frame.DataFrame'>\n",
      "RangeIndex: 7820 entries, 0 to 7819\n",
      "Columns: 455 entries, adgained to V455\n",
      "dtypes: int64(296), object(159)\n",
      "memory usage: 27.1+ MB\n"
     ]
    }
   ],
   "source": [
    "mar2003_raw.info()"
   ]
  },
  {
   "cell_type": "code",
   "execution_count": 4,
   "metadata": {},
   "outputs": [
    {
     "name": "stdout",
     "output_type": "stream",
     "text": [
      "<class 'pandas.core.frame.DataFrame'>\n",
      "RangeIndex: 7820 entries, 0 to 7819\n",
      "Data columns (total 9 columns):\n",
      " #   Column   Non-Null Count  Dtype \n",
      "---  ------   --------------  ----- \n",
      " 0   numcode  7820 non-null   object\n",
      " 1   ccode    7820 non-null   object\n",
      " 2   group    7820 non-null   object\n",
      " 3   country  7820 non-null   object\n",
      " 4   region   7820 non-null   int64 \n",
      " 5   year     7820 non-null   int64 \n",
      " 6   prot     7820 non-null   int64 \n",
      " 7   ecdis    7820 non-null   int64 \n",
      " 8   poldis   7820 non-null   int64 \n",
      "dtypes: int64(5), object(4)\n",
      "memory usage: 550.0+ KB\n"
     ]
    }
   ],
   "source": [
    "vars2003 = ['numcode', 'ccode', 'group', 'country', 'region', 'year', \n",
    "            'prot', 'ecdis', 'poldis']\n",
    "\n",
    "mar2003 = mar2003_raw.reindex(columns=vars2003)\n",
    "mar2003.info()"
   ]
  },
  {
   "cell_type": "code",
   "execution_count": 5,
   "metadata": {},
   "outputs": [
    {
     "data": {
      "text/plain": [
       "array([ -99,    0,    1,    2,    3,    4,    5,    6, 1920, 1923, 1940,\n",
       "       1945, 1950, 1952, 1955, 1960, 1965, 1970, 1975, 1980, 1985, 1986,\n",
       "       1987, 1988, 1989, 1990, 1991, 1992, 1993, 1994, 1995, 1996, 1997,\n",
       "       1998, 1999, 2000, 2001, 2002, 2003], dtype=int64)"
      ]
     },
     "execution_count": 5,
     "metadata": {},
     "output_type": "execute_result"
    }
   ],
   "source": [
    "unique_years = mar2003.year.unique()\n",
    "unique_years.sort()\n",
    "unique_years"
   ]
  },
  {
   "cell_type": "code",
   "execution_count": 6,
   "metadata": {
    "scrolled": true
   },
   "outputs": [
    {
     "data": {
      "text/plain": [
       "array([1990, 1991, 1992, 1993, 1994, 1995, 1996, 1997, 1998, 1999, 2000,\n",
       "       2001, 2002, 2003], dtype=int64)"
      ]
     },
     "execution_count": 6,
     "metadata": {},
     "output_type": "execute_result"
    }
   ],
   "source": [
    "mar2003 = mar2003[mar2003['year'] > 1989]\n",
    "\n",
    "unique_years = mar2003.year.unique()\n",
    "unique_years.sort()\n",
    "unique_years"
   ]
  },
  {
   "cell_type": "code",
   "execution_count": 7,
   "metadata": {},
   "outputs": [
    {
     "data": {
      "text/plain": [
       "array([  3,   2,   1,   0,   4,   5, -99,   6], dtype=int64)"
      ]
     },
     "execution_count": 7,
     "metadata": {},
     "output_type": "execute_result"
    }
   ],
   "source": [
    "mar2003.prot.unique()"
   ]
  },
  {
   "cell_type": "code",
   "execution_count": 8,
   "metadata": {},
   "outputs": [
    {
     "data": {
      "text/plain": [
       "array([3, 2, 1, 0, 4, 5], dtype=int64)"
      ]
     },
     "execution_count": 8,
     "metadata": {},
     "output_type": "execute_result"
    }
   ],
   "source": [
    "mar2003 = mar2003[mar2003.prot != -99]\n",
    "mar2003 = mar2003[mar2003.prot != 6]\n",
    "mar2003.prot.unique()"
   ]
  },
  {
   "cell_type": "code",
   "execution_count": 9,
   "metadata": {
    "scrolled": true
   },
   "outputs": [
    {
     "data": {
      "text/plain": [
       "array([  1,   0,   4,   3,   2, -99], dtype=int64)"
      ]
     },
     "execution_count": 9,
     "metadata": {},
     "output_type": "execute_result"
    }
   ],
   "source": [
    "mar2003.ecdis.unique()"
   ]
  },
  {
   "cell_type": "code",
   "execution_count": 10,
   "metadata": {},
   "outputs": [
    {
     "data": {
      "text/plain": [
       "array([1, 0, 4, 3, 2], dtype=int64)"
      ]
     },
     "execution_count": 10,
     "metadata": {},
     "output_type": "execute_result"
    }
   ],
   "source": [
    "mar2003 = mar2003[mar2003.ecdis != -99]\n",
    "mar2003.ecdis.unique()"
   ]
  },
  {
   "cell_type": "code",
   "execution_count": 11,
   "metadata": {},
   "outputs": [
    {
     "data": {
      "text/plain": [
       "array([  1,   0,   2,   4,   3, -99], dtype=int64)"
      ]
     },
     "execution_count": 11,
     "metadata": {},
     "output_type": "execute_result"
    }
   ],
   "source": [
    "mar2003.poldis.unique()"
   ]
  },
  {
   "cell_type": "code",
   "execution_count": 12,
   "metadata": {},
   "outputs": [
    {
     "data": {
      "text/plain": [
       "array([1, 0, 2, 4, 3], dtype=int64)"
      ]
     },
     "execution_count": 12,
     "metadata": {},
     "output_type": "execute_result"
    }
   ],
   "source": [
    "mar2003 = mar2003[mar2003.poldis != -99]\n",
    "mar2003.poldis.unique()"
   ]
  },
  {
   "cell_type": "code",
   "execution_count": 13,
   "metadata": {},
   "outputs": [
    {
     "data": {
      "text/plain": [
       "1990    160\n",
       "1991    179\n",
       "1992    195\n",
       "1993    200\n",
       "1994    201\n",
       "1995    199\n",
       "1996    199\n",
       "1997    201\n",
       "1998    200\n",
       "1999    202\n",
       "2000    202\n",
       "2001    277\n",
       "2002    276\n",
       "2003    276\n",
       "Name: year, dtype: int64"
      ]
     },
     "execution_count": 13,
     "metadata": {},
     "output_type": "execute_result"
    }
   ],
   "source": [
    "mar2003.year.value_counts().sort_index(ascending=True)"
   ]
  },
  {
   "cell_type": "code",
   "execution_count": 14,
   "metadata": {},
   "outputs": [
    {
     "data": {
      "text/plain": [
       "1990    146\n",
       "1991    146\n",
       "1992    146\n",
       "1993    146\n",
       "1994    146\n",
       "1995    146\n",
       "1996    146\n",
       "1997    146\n",
       "1998    146\n",
       "1999    146\n",
       "2000    146\n",
       "2001    146\n",
       "2002    146\n",
       "2003    146\n",
       "Name: year, dtype: int64"
      ]
     },
     "execution_count": 14,
     "metadata": {},
     "output_type": "execute_result"
    }
   ],
   "source": [
    "full_years = []\n",
    "for numcode in mar2003.numcode.value_counts().index:\n",
    "    if mar2003.numcode.value_counts()[numcode] == 14:\n",
    "        full_years.append(numcode)\n",
    "\n",
    "mar2003 = mar2003[mar2003['numcode'].isin(full_years)]\n",
    "mar2003.year.value_counts().sort_index(ascending=True)"
   ]
  },
  {
   "cell_type": "code",
   "execution_count": 15,
   "metadata": {},
   "outputs": [
    {
     "data": {
      "text/plain": [
       "146"
      ]
     },
     "execution_count": 15,
     "metadata": {},
     "output_type": "execute_result"
    }
   ],
   "source": [
    "len(mar2003.numcode.unique())"
   ]
  },
  {
   "cell_type": "code",
   "execution_count": 16,
   "metadata": {
    "scrolled": true
   },
   "outputs": [
    {
     "name": "stdout",
     "output_type": "stream",
     "text": [
      "<class 'pandas.core.frame.DataFrame'>\n",
      "RangeIndex: 852 entries, 0 to 851\n",
      "Data columns (total 10 columns):\n",
      " #   Column   Non-Null Count  Dtype \n",
      "---  ------   --------------  ----- \n",
      " 0   numcode  852 non-null    int64 \n",
      " 1   ccode    852 non-null    int64 \n",
      " 2   group    852 non-null    object\n",
      " 3   country  852 non-null    object\n",
      " 4   region   852 non-null    int64 \n",
      " 5   year     852 non-null    int64 \n",
      " 6   prot     852 non-null    int64 \n",
      " 7   kindred  852 non-null    int64 \n",
      " 8   ecdis    852 non-null    int64 \n",
      " 9   poldis   852 non-null    int64 \n",
      "dtypes: int64(8), object(2)\n",
      "memory usage: 66.7+ KB\n"
     ]
    }
   ],
   "source": [
    "mar2006_raw = pd.read_csv('mar2006.csv', sep=';', low_memory=False)\n",
    "vars2006 = ['numcode', 'ccode', 'VMAR_Group', 'country', 'VMAR_Region','year', \n",
    "            'PROT', 'GC10', 'ECDIS', 'POLDIS']\n",
    "\n",
    "mar2006 = mar2006_raw.reindex(columns=vars2006)\n",
    "mar2006 = mar2006.rename(columns={'VMAR_Group': 'group', 'VMAR_Region': 'region',\n",
    "                                  'PROT': 'prot', 'GC10': 'kindred', \n",
    "                                  'ECDIS': 'ecdis', 'POLDIS': 'poldis'})\n",
    "mar2006.info()"
   ]
  },
  {
   "cell_type": "code",
   "execution_count": 17,
   "metadata": {},
   "outputs": [
    {
     "data": {
      "text/plain": [
       "array([  3,   4,   5,   1,   0,   2, -99], dtype=int64)"
      ]
     },
     "execution_count": 17,
     "metadata": {},
     "output_type": "execute_result"
    }
   ],
   "source": [
    "mar2006.prot.unique()"
   ]
  },
  {
   "cell_type": "code",
   "execution_count": 18,
   "metadata": {},
   "outputs": [
    {
     "data": {
      "text/plain": [
       "array([3, 4, 5, 1, 0, 2], dtype=int64)"
      ]
     },
     "execution_count": 18,
     "metadata": {},
     "output_type": "execute_result"
    }
   ],
   "source": [
    "mar2006 = mar2006[mar2006.prot != -99]\n",
    "mar2006.prot.unique()"
   ]
  },
  {
   "cell_type": "code",
   "execution_count": 19,
   "metadata": {},
   "outputs": [
    {
     "data": {
      "text/plain": [
       "array([  1,   0,   4,   3,   2, -99], dtype=int64)"
      ]
     },
     "execution_count": 19,
     "metadata": {},
     "output_type": "execute_result"
    }
   ],
   "source": [
    "mar2006.ecdis.unique()"
   ]
  },
  {
   "cell_type": "code",
   "execution_count": 20,
   "metadata": {},
   "outputs": [
    {
     "data": {
      "text/plain": [
       "array([1, 0, 4, 3, 2], dtype=int64)"
      ]
     },
     "execution_count": 20,
     "metadata": {},
     "output_type": "execute_result"
    }
   ],
   "source": [
    "mar2006 = mar2006[mar2006.ecdis != -99]\n",
    "mar2006.ecdis.unique()"
   ]
  },
  {
   "cell_type": "code",
   "execution_count": 21,
   "metadata": {},
   "outputs": [
    {
     "data": {
      "text/plain": [
       "2004    280\n",
       "2005    281\n",
       "2006    281\n",
       "Name: year, dtype: int64"
      ]
     },
     "execution_count": 21,
     "metadata": {},
     "output_type": "execute_result"
    }
   ],
   "source": [
    "mar2006.year.value_counts().sort_index(ascending=True)"
   ]
  },
  {
   "cell_type": "code",
   "execution_count": 22,
   "metadata": {},
   "outputs": [
    {
     "data": {
      "text/plain": [
       "2004    277\n",
       "2005    277\n",
       "2006    277\n",
       "Name: year, dtype: int64"
      ]
     },
     "execution_count": 22,
     "metadata": {},
     "output_type": "execute_result"
    }
   ],
   "source": [
    "full_years = []\n",
    "for numcode in mar2006.numcode.value_counts().index:\n",
    "    if mar2006.numcode.value_counts()[numcode] == 3:\n",
    "        full_years.append(numcode)\n",
    "\n",
    "mar2006 = mar2006[mar2006['numcode'].isin(full_years)]\n",
    "mar2006.year.value_counts().sort_index(ascending=True)"
   ]
  },
  {
   "cell_type": "code",
   "execution_count": 23,
   "metadata": {},
   "outputs": [
    {
     "data": {
      "text/plain": [
       "277"
      ]
     },
     "execution_count": 23,
     "metadata": {},
     "output_type": "execute_result"
    }
   ],
   "source": [
    "len(mar2006.numcode.unique())"
   ]
  },
  {
   "cell_type": "code",
   "execution_count": 24,
   "metadata": {},
   "outputs": [
    {
     "data": {
      "text/plain": [
       "Index(['203', '203', '203', '203', '203', '203', '203', '203', '203', '203',\n",
       "       ...\n",
       "       '95002', '95002', '95002', '95002', '95002', '95002', '95002', '95002',\n",
       "       '95002', '95002'],\n",
       "      dtype='object', name='numcode', length=2044)"
      ]
     },
     "execution_count": 24,
     "metadata": {},
     "output_type": "execute_result"
    }
   ],
   "source": [
    "mar2003 = mar2003.set_index(['numcode'], drop=True)\n",
    "mar2003.index"
   ]
  },
  {
   "cell_type": "code",
   "execution_count": 25,
   "metadata": {},
   "outputs": [
    {
     "data": {
      "text/plain": [
       "Int64Index([  201,   201,   201,   202,   202,   202,   203,   203,   203,\n",
       "              204,\n",
       "            ...\n",
       "            91001, 92001, 92001, 92001, 95001, 95001, 95001, 95002, 95002,\n",
       "            95002],\n",
       "           dtype='int64', name='numcode', length=831)"
      ]
     },
     "execution_count": 25,
     "metadata": {},
     "output_type": "execute_result"
    }
   ],
   "source": [
    "mar2006 = mar2006.set_index(['numcode'], drop=True)\n",
    "mar2006.index"
   ]
  },
  {
   "cell_type": "code",
   "execution_count": 26,
   "metadata": {},
   "outputs": [],
   "source": [
    "mar2003.ccode = mar2003.ccode.astype('int64')\n",
    "mar2003.index = mar2003.index.astype('int64')"
   ]
  },
  {
   "cell_type": "code",
   "execution_count": 27,
   "metadata": {},
   "outputs": [
    {
     "name": "stdout",
     "output_type": "stream",
     "text": [
      "<class 'pandas.core.frame.DataFrame'>\n",
      "Int64Index: 2875 entries, 201 to 95002\n",
      "Data columns (total 9 columns):\n",
      " #   Column   Non-Null Count  Dtype  \n",
      "---  ------   --------------  -----  \n",
      " 0   ccode    2875 non-null   int64  \n",
      " 1   group    2875 non-null   object \n",
      " 2   country  2875 non-null   object \n",
      " 3   region   2875 non-null   int64  \n",
      " 4   year     2875 non-null   int64  \n",
      " 5   prot     2875 non-null   int64  \n",
      " 6   ecdis    2875 non-null   int64  \n",
      " 7   poldis   2875 non-null   int64  \n",
      " 8   kindred  831 non-null    float64\n",
      "dtypes: float64(1), int64(6), object(2)\n",
      "memory usage: 224.6+ KB\n"
     ]
    }
   ],
   "source": [
    "mar_complete = pd.concat([mar2003,mar2006], axis=0).sort_values(by=['numcode',\n",
    "                                                                    'year'])\n",
    "mar_complete.info()"
   ]
  },
  {
   "cell_type": "code",
   "execution_count": 28,
   "metadata": {},
   "outputs": [
    {
     "data": {
      "text/plain": [
       "1990    146\n",
       "1991    146\n",
       "1992    146\n",
       "1993    146\n",
       "1994    146\n",
       "1995    146\n",
       "1996    146\n",
       "1997    146\n",
       "1998    146\n",
       "1999    146\n",
       "2000    146\n",
       "2001    146\n",
       "2002    146\n",
       "2003    146\n",
       "2004    277\n",
       "2005    277\n",
       "2006    277\n",
       "Name: year, dtype: int64"
      ]
     },
     "execution_count": 28,
     "metadata": {},
     "output_type": "execute_result"
    }
   ],
   "source": [
    "mar_complete.year.value_counts().sort_index(ascending=True)"
   ]
  },
  {
   "cell_type": "code",
   "execution_count": 29,
   "metadata": {},
   "outputs": [
    {
     "data": {
      "text/plain": [
       "1990    143\n",
       "1991    143\n",
       "1992    143\n",
       "1993    143\n",
       "1994    143\n",
       "1995    143\n",
       "1996    143\n",
       "1997    143\n",
       "1998    143\n",
       "1999    143\n",
       "2000    143\n",
       "2001    143\n",
       "2002    143\n",
       "2003    143\n",
       "2004    143\n",
       "2005    143\n",
       "2006    143\n",
       "Name: year, dtype: int64"
      ]
     },
     "execution_count": 29,
     "metadata": {},
     "output_type": "execute_result"
    }
   ],
   "source": [
    "mar_complete['numcode'] = mar_complete.index\n",
    "full_years = []\n",
    "\n",
    "for numcode in mar_complete.numcode.value_counts().index:\n",
    "    if mar_complete.numcode.value_counts()[numcode] == 17:\n",
    "        full_years.append(numcode)\n",
    "\n",
    "mar_complete = mar_complete[mar_complete['numcode'].isin(full_years)]\n",
    "mar_complete = mar_complete.drop('numcode', axis=1)\n",
    "mar_complete.year.value_counts().sort_index(ascending=True)"
   ]
  },
  {
   "cell_type": "code",
   "execution_count": 30,
   "metadata": {},
   "outputs": [
    {
     "data": {
      "text/plain": [
       "ccode      2431\n",
       "group      2431\n",
       "country    2431\n",
       "region     2431\n",
       "year       2431\n",
       "prot       2431\n",
       "ecdis      2431\n",
       "poldis     2431\n",
       "kindred     429\n",
       "dtype: int64"
      ]
     },
     "execution_count": 30,
     "metadata": {},
     "output_type": "execute_result"
    }
   ],
   "source": [
    "mar_complete.count()"
   ]
  },
  {
   "cell_type": "code",
   "execution_count": 31,
   "metadata": {},
   "outputs": [
    {
     "data": {
      "text/plain": [
       "ccode      2431\n",
       "group      2431\n",
       "country    2431\n",
       "region     2431\n",
       "year       2431\n",
       "prot       2431\n",
       "ecdis      2431\n",
       "poldis     2431\n",
       "kindred    2431\n",
       "dtype: int64"
      ]
     },
     "execution_count": 31,
     "metadata": {},
     "output_type": "execute_result"
    }
   ],
   "source": [
    "mar_complete.kindred = mar_complete.kindred.fillna(method='bfill')\n",
    "mar_complete.kindred = mar_complete.kindred.astype('int64')\n",
    "mar_complete.count()"
   ]
  },
  {
   "cell_type": "code",
   "execution_count": 32,
   "metadata": {},
   "outputs": [
    {
     "data": {
      "text/plain": [
       "region  year\n",
       "0       1990    46\n",
       "        1991    48\n",
       "        1992    48\n",
       "        1993    50\n",
       "        1994    49\n",
       "                ..\n",
       "7       2002    51\n",
       "        2003    43\n",
       "        2004    35\n",
       "        2005    36\n",
       "        2006    40\n",
       "Name: prot_region, Length: 102, dtype: int64"
      ]
     },
     "execution_count": 32,
     "metadata": {},
     "output_type": "execute_result"
    }
   ],
   "source": [
    "prot_region = mar_complete.groupby(['region', 'year']).sum().prot\n",
    "prot_region = prot_region.rename(\"prot_region\")\n",
    "prot_region"
   ]
  },
  {
   "cell_type": "code",
   "execution_count": 33,
   "metadata": {
    "scrolled": true
   },
   "outputs": [
    {
     "data": {
      "text/plain": [
       "ccode          2431\n",
       "group          2431\n",
       "country        2431\n",
       "region         2431\n",
       "year           2431\n",
       "prot           2431\n",
       "ecdis          2431\n",
       "poldis         2431\n",
       "kindred        2431\n",
       "prot_region    2431\n",
       "dtype: int64"
      ]
     },
     "execution_count": 33,
     "metadata": {},
     "output_type": "execute_result"
    }
   ],
   "source": [
    "mar_complete = mar_complete.reset_index().merge(prot_region, how='left', \n",
    "                                                on=['year', \n",
    "                                                    'region']).set_index('numcode')\n",
    "mar_complete.count()"
   ]
  },
  {
   "cell_type": "code",
   "execution_count": 34,
   "metadata": {},
   "outputs": [
    {
     "data": {
      "text/plain": [
       "ccode  year\n",
       "2      1990    3.0\n",
       "       1991    3.0\n",
       "       1992    2.0\n",
       "       1993    3.0\n",
       "       1994    3.0\n",
       "              ... \n",
       "950    2002    3.0\n",
       "       2003    0.0\n",
       "       2004    0.0\n",
       "       2005    0.0\n",
       "       2006    0.0\n",
       "Name: prot_country, Length: 1309, dtype: float64"
      ]
     },
     "execution_count": 34,
     "metadata": {},
     "output_type": "execute_result"
    }
   ],
   "source": [
    "prot_country = mar_complete.groupby(['ccode', 'year']).mean().prot\n",
    "prot_country = prot_country.rename(\"prot_country\")\n",
    "prot_country"
   ]
  },
  {
   "cell_type": "code",
   "execution_count": 35,
   "metadata": {},
   "outputs": [
    {
     "data": {
      "text/plain": [
       "ccode           2431\n",
       "group           2431\n",
       "country         2431\n",
       "region          2431\n",
       "year            2431\n",
       "prot            2431\n",
       "ecdis           2431\n",
       "poldis          2431\n",
       "kindred         2431\n",
       "prot_region     2431\n",
       "prot_country    2431\n",
       "dtype: int64"
      ]
     },
     "execution_count": 35,
     "metadata": {},
     "output_type": "execute_result"
    }
   ],
   "source": [
    "mar_complete = mar_complete.reset_index().merge(prot_country, how='left', \n",
    "                                                on=['year', \n",
    "                                                    'ccode']).set_index('numcode')\n",
    "mar_complete.count()"
   ]
  },
  {
   "cell_type": "code",
   "execution_count": 36,
   "metadata": {},
   "outputs": [
    {
     "data": {
      "text/plain": [
       "ccode                2431\n",
       "group                2431\n",
       "country              2431\n",
       "region               2431\n",
       "year                 2431\n",
       "prot                 2431\n",
       "ecdis                2431\n",
       "poldis               2431\n",
       "kindred              2431\n",
       "prot_region          2431\n",
       "prot_country         2431\n",
       "prot_region_minus    2431\n",
       "dtype: int64"
      ]
     },
     "execution_count": 36,
     "metadata": {},
     "output_type": "execute_result"
    }
   ],
   "source": [
    "mar_complete['prot_region_minus'] = \\\n",
    "                            (mar_complete.prot_region - mar_complete.prot_country)\n",
    "mar_complete.count()"
   ]
  },
  {
   "cell_type": "code",
   "execution_count": 37,
   "metadata": {},
   "outputs": [
    {
     "data": {
      "text/plain": [
       "region\n",
       "0    24\n",
       "2     9\n",
       "3    40\n",
       "5    11\n",
       "6    34\n",
       "7    25\n",
       "Name: prot_groupcount, dtype: int64"
      ]
     },
     "execution_count": 37,
     "metadata": {},
     "output_type": "execute_result"
    }
   ],
   "source": [
    "prot_groupcount = mar_complete.reset_index()\\\n",
    "                 .pivot_table(index='numcode').reset_index()\\\n",
    "                 .region.value_counts()\n",
    "\n",
    "prot_groupcount = prot_groupcount.rename(\"prot_groupcount\")\n",
    "prot_groupcount.index.name = 'region'\n",
    "prot_groupcount.sort_index(ascending=True)"
   ]
  },
  {
   "cell_type": "code",
   "execution_count": 38,
   "metadata": {},
   "outputs": [
    {
     "data": {
      "text/plain": [
       "ccode                2431\n",
       "group                2431\n",
       "country              2431\n",
       "region               2431\n",
       "year                 2431\n",
       "prot                 2431\n",
       "ecdis                2431\n",
       "poldis               2431\n",
       "kindred              2431\n",
       "prot_region          2431\n",
       "prot_country         2431\n",
       "prot_region_minus    2431\n",
       "prot_groupcount      2431\n",
       "dtype: int64"
      ]
     },
     "execution_count": 38,
     "metadata": {},
     "output_type": "execute_result"
    }
   ],
   "source": [
    "mar_complete = mar_complete.reset_index().merge(prot_groupcount, how='left', \n",
    "                                                on='region').set_index('numcode')\n",
    "mar_complete.count()"
   ]
  },
  {
   "cell_type": "code",
   "execution_count": 39,
   "metadata": {},
   "outputs": [
    {
     "name": "stdout",
     "output_type": "stream",
     "text": [
      "<class 'pandas.core.frame.DataFrame'>\n",
      "Int64Index: 2431 entries, 203 to 95002\n",
      "Data columns (total 14 columns):\n",
      " #   Column             Non-Null Count  Dtype  \n",
      "---  ------             --------------  -----  \n",
      " 0   ccode              2431 non-null   int64  \n",
      " 1   group              2431 non-null   object \n",
      " 2   country            2431 non-null   object \n",
      " 3   region             2431 non-null   int64  \n",
      " 4   year               2431 non-null   int64  \n",
      " 5   prot               2431 non-null   int64  \n",
      " 6   ecdis              2431 non-null   int64  \n",
      " 7   poldis             2431 non-null   int64  \n",
      " 8   kindred            2431 non-null   int64  \n",
      " 9   prot_region        2431 non-null   int64  \n",
      " 10  prot_country       2431 non-null   float64\n",
      " 11  prot_region_minus  2431 non-null   float64\n",
      " 12  prot_groupcount    2431 non-null   int64  \n",
      " 13  protnearby         2431 non-null   float64\n",
      "dtypes: float64(3), int64(9), object(2)\n",
      "memory usage: 284.9+ KB\n"
     ]
    }
   ],
   "source": [
    "mar_complete['protnearby'] = \\\n",
    "(mar_complete.prot_region_minus / mar_complete.prot_groupcount)\n",
    "\n",
    "mar_complete.info()"
   ]
  },
  {
   "cell_type": "code",
   "execution_count": 40,
   "metadata": {
    "scrolled": true
   },
   "outputs": [
    {
     "name": "stdout",
     "output_type": "stream",
     "text": [
      "<class 'pandas.core.frame.DataFrame'>\n",
      "Int64Index: 2431 entries, 203 to 95002\n",
      "Data columns (total 10 columns):\n",
      " #   Column      Non-Null Count  Dtype  \n",
      "---  ------      --------------  -----  \n",
      " 0   ccode       2431 non-null   int64  \n",
      " 1   group       2431 non-null   object \n",
      " 2   country     2431 non-null   object \n",
      " 3   region      2431 non-null   int64  \n",
      " 4   year        2431 non-null   int64  \n",
      " 5   prot        2431 non-null   int64  \n",
      " 6   ecdis       2431 non-null   int64  \n",
      " 7   poldis      2431 non-null   int64  \n",
      " 8   kindred     2431 non-null   int64  \n",
      " 9   protnearby  2431 non-null   float64\n",
      "dtypes: float64(1), int64(7), object(2)\n",
      "memory usage: 208.9+ KB\n"
     ]
    }
   ],
   "source": [
    "mar_complete = mar_complete.drop(columns=['prot_region','prot_country',\n",
    "                                          'prot_region_minus','prot_groupcount'])\n",
    "mar_complete.info()"
   ]
  },
  {
   "cell_type": "code",
   "execution_count": 41,
   "metadata": {},
   "outputs": [
    {
     "name": "stdout",
     "output_type": "stream",
     "text": [
      "154\n",
      "225\n"
     ]
    }
   ],
   "source": [
    "print(mar_complete.country.unique().size)\n",
    "print(mar_complete.group.unique().size)"
   ]
  },
  {
   "cell_type": "code",
   "execution_count": 42,
   "metadata": {},
   "outputs": [
    {
     "name": "stdout",
     "output_type": "stream",
     "text": [
      "77\n",
      "112\n"
     ]
    }
   ],
   "source": [
    "mar_complete.loc[mar_complete.country.str.contains('\\\"'), 'country'] = np.nan\n",
    "mar_complete.country = mar_complete.country.fillna(method='bfill')\n",
    "\n",
    "mar_complete.loc[mar_complete.group.str.contains('\\\"'), 'group'] = np.nan\n",
    "mar_complete.group = mar_complete.group.fillna(method='bfill')\n",
    "\n",
    "print(mar_complete.country.unique().size)\n",
    "print(mar_complete.group.unique().size)"
   ]
  },
  {
   "cell_type": "code",
   "execution_count": 43,
   "metadata": {},
   "outputs": [
    {
     "name": "stdout",
     "output_type": "stream",
     "text": [
      "<class 'pandas.core.frame.DataFrame'>\n",
      "RangeIndex: 96064 entries, 0 to 96063\n",
      "Data columns (total 3 columns):\n",
      " #   Column    Non-Null Count  Dtype  \n",
      "---  ------    --------------  -----  \n",
      " 0   country   96064 non-null  object \n",
      " 1   year      96061 non-null  float64\n",
      " 2   refugees  96020 non-null  float64\n",
      "dtypes: float64(2), object(1)\n",
      "memory usage: 2.2+ MB\n"
     ]
    }
   ],
   "source": [
    "unhcr_raw = pd.read_csv('UNHCR refugees.csv', sep=',', low_memory=False)\n",
    "\n",
    "unchr = unhcr_raw.reindex(columns=\\\n",
    "['Country or territory of asylum or residence',\n",
    " 'Year',\n",
    " 'Total refugees and people in refugee-like situations<sup>**</sup>'])\n",
    "\n",
    "unchr = unchr.rename(columns=\\\n",
    "{'Country or territory of asylum or residence': 'country',\n",
    " 'Year': 'year',\n",
    " 'Total refugees and people in refugee-like situations<sup>**</sup>': 'refugees'})\n",
    "\n",
    "unchr.info()"
   ]
  },
  {
   "cell_type": "code",
   "execution_count": 44,
   "metadata": {},
   "outputs": [
    {
     "data": {
      "text/plain": [
       "array([2006., 2005., 2004., 2003., 2002., 2001., 2000., 1999., 1998.,\n",
       "       1997., 1996., 1995., 1994., 1993., 1992., 1991., 1990.])"
      ]
     },
     "execution_count": 44,
     "metadata": {},
     "output_type": "execute_result"
    }
   ],
   "source": [
    "unchr = unchr[unchr['year'] > 1989]\n",
    "unchr = unchr[unchr['year'] < 2007]\n",
    "unchr.year.unique()"
   ]
  },
  {
   "cell_type": "code",
   "execution_count": 45,
   "metadata": {},
   "outputs": [
    {
     "name": "stdout",
     "output_type": "stream",
     "text": [
      "<class 'pandas.core.frame.DataFrame'>\n",
      "Int64Index: 43636 entries, 48802 to 92475\n",
      "Data columns (total 3 columns):\n",
      " #   Column    Non-Null Count  Dtype  \n",
      "---  ------    --------------  -----  \n",
      " 0   country   43636 non-null  object \n",
      " 1   year      43636 non-null  float64\n",
      " 2   refugees  43636 non-null  float64\n",
      "dtypes: float64(2), object(1)\n",
      "memory usage: 1.3+ MB\n"
     ]
    }
   ],
   "source": [
    "unchr = unchr[unchr.refugees.notnull()]\n",
    "unchr.info()"
   ]
  },
  {
   "cell_type": "code",
   "execution_count": 46,
   "metadata": {},
   "outputs": [
    {
     "name": "stdout",
     "output_type": "stream",
     "text": [
      "<class 'pandas.core.frame.DataFrame'>\n",
      "RangeIndex: 2418 entries, 0 to 2417\n",
      "Data columns (total 3 columns):\n",
      " #   Column    Non-Null Count  Dtype  \n",
      "---  ------    --------------  -----  \n",
      " 0   country   2418 non-null   object \n",
      " 1   year      2418 non-null   float64\n",
      " 2   refugees  2418 non-null   float64\n",
      "dtypes: float64(2), object(1)\n",
      "memory usage: 56.8+ KB\n"
     ]
    }
   ],
   "source": [
    "unchr = unchr.pivot_table(index=['country','year'], \n",
    "                          aggfunc=np.sum).reset_index()\n",
    "unchr.info()"
   ]
  },
  {
   "cell_type": "code",
   "execution_count": 47,
   "metadata": {},
   "outputs": [
    {
     "name": "stdout",
     "output_type": "stream",
     "text": [
      "<class 'pandas.core.frame.DataFrame'>\n",
      "RangeIndex: 2418 entries, 0 to 2417\n",
      "Data columns (total 3 columns):\n",
      " #   Column    Non-Null Count  Dtype \n",
      "---  ------    --------------  ----- \n",
      " 0   country   2418 non-null   object\n",
      " 1   year      2418 non-null   int64 \n",
      " 2   refugees  2418 non-null   int64 \n",
      "dtypes: int64(2), object(1)\n",
      "memory usage: 56.8+ KB\n"
     ]
    }
   ],
   "source": [
    "unchr.year = unchr.year.astype('int64')\n",
    "unchr.refugees = unchr.refugees.astype('int64')\n",
    "unchr.info()"
   ]
  },
  {
   "cell_type": "code",
   "execution_count": 48,
   "metadata": {},
   "outputs": [
    {
     "data": {
      "text/plain": [
       "1990    112\n",
       "1991    118\n",
       "1992    132\n",
       "1993    139\n",
       "1994    142\n",
       "1995    143\n",
       "1996    143\n",
       "1997    147\n",
       "1998    146\n",
       "1999    151\n",
       "2000    150\n",
       "2001    151\n",
       "2002    147\n",
       "2003    147\n",
       "2004    148\n",
       "2005    149\n",
       "2006    153\n",
       "Name: year, dtype: int64"
      ]
     },
     "execution_count": 48,
     "metadata": {},
     "output_type": "execute_result"
    }
   ],
   "source": [
    "unchr.year.value_counts().sort_index(ascending=True)"
   ]
  },
  {
   "cell_type": "code",
   "execution_count": 49,
   "metadata": {},
   "outputs": [
    {
     "data": {
      "text/plain": [
       "1990    100\n",
       "1991    100\n",
       "1992    100\n",
       "1993    100\n",
       "1994    100\n",
       "1995    100\n",
       "1996    100\n",
       "1997    100\n",
       "1998    100\n",
       "1999    100\n",
       "2000    100\n",
       "2001    100\n",
       "2002    100\n",
       "2003    100\n",
       "2004    100\n",
       "2005    100\n",
       "2006    100\n",
       "Name: year, dtype: int64"
      ]
     },
     "execution_count": 49,
     "metadata": {},
     "output_type": "execute_result"
    }
   ],
   "source": [
    "full_years = []\n",
    "for country in unchr.country.value_counts().index:\n",
    "    if unchr.country.value_counts()[country] == 17:\n",
    "        full_years.append(country)\n",
    "\n",
    "unchr = unchr[unchr['country'].isin(full_years)]\n",
    "unchr.year.value_counts().sort_index(ascending=True)"
   ]
  },
  {
   "cell_type": "code",
   "execution_count": 50,
   "metadata": {},
   "outputs": [
    {
     "data": {
      "text/plain": [
       "100"
      ]
     },
     "execution_count": 50,
     "metadata": {},
     "output_type": "execute_result"
    }
   ],
   "source": [
    "len(unchr.country.unique())"
   ]
  },
  {
   "cell_type": "code",
   "execution_count": 51,
   "metadata": {},
   "outputs": [
    {
     "name": "stdout",
     "output_type": "stream",
     "text": [
      "50\n",
      "50\n"
     ]
    }
   ],
   "source": [
    "qualified_countries = []\n",
    "disqualified_countries = []\n",
    "\n",
    "for country in unchr.country.unique():\n",
    "    if country in mar_complete.country.unique():\n",
    "        qualified_countries.append(country)\n",
    "    else:\n",
    "        disqualified_countries.append(country)\n",
    "\n",
    "print(len(qualified_countries))\n",
    "print(len(disqualified_countries))"
   ]
  },
  {
   "cell_type": "code",
   "execution_count": 52,
   "metadata": {},
   "outputs": [
    {
     "data": {
      "text/plain": [
       "array(['Afghanistan', 'Albania', 'Bahrain', 'Bhutan', 'Bolivia',\n",
       "       'Bulgaria', 'Burma', 'Dominican Republic', 'Fiji', 'Guyana',\n",
       "       'Iran', 'Israel', 'Korea, South', 'Laos', 'Madagascar', 'Namibia',\n",
       "       'Romania', 'Singapore', 'Somalia', 'South Africa', 'Sri Lanka',\n",
       "       'Taiwan', 'Tanzania', 'United States of America', 'Venezuela',\n",
       "       'Vietnam', 'Yugoslavia'], dtype='<U24')"
      ]
     },
     "execution_count": 52,
     "metadata": {},
     "output_type": "execute_result"
    }
   ],
   "source": [
    "remaining_countries = []\n",
    "for country in mar_complete.country.unique():\n",
    "    if country not in qualified_countries:\n",
    "        remaining_countries.append(country)\n",
    "\n",
    "np.sort(remaining_countries)"
   ]
  },
  {
   "cell_type": "code",
   "execution_count": 53,
   "metadata": {},
   "outputs": [
    {
     "name": "stdout",
     "output_type": "stream",
     "text": [
      "56\n",
      "44\n"
     ]
    }
   ],
   "source": [
    "def rename_country(old, new):\n",
    "    unchr.loc[unchr.country.str.contains(old, regex=False), 'country'] = new\n",
    "    \n",
    "rename_country('Bolivia (Plurinational State of)', 'Bolivia')\n",
    "rename_country('Islamic Rep. of Iran', 'Iran')\n",
    "rename_country('United Rep. of Tanzania', 'Tanzania')\n",
    "rename_country('United States', 'United States of America')\n",
    "rename_country('Venezuela (Bolivarian Republic of)', 'Venezuela')\n",
    "rename_country('Viet Nam', 'Vietnam')\n",
    "\n",
    "qualified_countries = []\n",
    "disqualified_countries = []\n",
    "\n",
    "for country in unchr.country.unique():\n",
    "    if country in mar_complete.country.unique():\n",
    "        qualified_countries.append(country)\n",
    "    else:\n",
    "        disqualified_countries.append(country)\n",
    "\n",
    "print(len(qualified_countries))\n",
    "print(len(disqualified_countries))"
   ]
  },
  {
   "cell_type": "code",
   "execution_count": 54,
   "metadata": {},
   "outputs": [
    {
     "data": {
      "text/plain": [
       "56"
      ]
     },
     "execution_count": 54,
     "metadata": {},
     "output_type": "execute_result"
    }
   ],
   "source": [
    "unchr = unchr[unchr['country'].isin(qualified_countries)]\n",
    "len(unchr.country.unique())"
   ]
  },
  {
   "cell_type": "code",
   "execution_count": 55,
   "metadata": {},
   "outputs": [
    {
     "name": "stdout",
     "output_type": "stream",
     "text": [
      "9\n",
      "4404995\n"
     ]
    }
   ],
   "source": [
    "print(unchr.refugees.min())\n",
    "print(unchr.refugees.max())"
   ]
  },
  {
   "cell_type": "code",
   "execution_count": 56,
   "metadata": {},
   "outputs": [
    {
     "name": "stdout",
     "output_type": "stream",
     "text": [
      "2.1972245773362196\n",
      "15.298249682277993\n"
     ]
    }
   ],
   "source": [
    "unchr['logrefugees'] = np.log(unchr['refugees'])\n",
    "print(unchr.logrefugees.min())\n",
    "print(unchr.logrefugees.max())"
   ]
  },
  {
   "cell_type": "code",
   "execution_count": 57,
   "metadata": {
    "scrolled": false
   },
   "outputs": [
    {
     "name": "stdout",
     "output_type": "stream",
     "text": [
      "<class 'pandas.core.frame.DataFrame'>\n",
      "Int64Index: 1887 entries, 0 to 1886\n",
      "Data columns (total 13 columns):\n",
      " #   Column       Non-Null Count  Dtype  \n",
      "---  ------       --------------  -----  \n",
      " 0   numcode      1887 non-null   int64  \n",
      " 1   ccode        1887 non-null   int64  \n",
      " 2   group        1887 non-null   object \n",
      " 3   country      1887 non-null   object \n",
      " 4   region       1887 non-null   int64  \n",
      " 5   year         1887 non-null   int64  \n",
      " 6   prot         1887 non-null   int64  \n",
      " 7   ecdis        1887 non-null   int64  \n",
      " 8   poldis       1887 non-null   int64  \n",
      " 9   kindred      1887 non-null   int64  \n",
      " 10  protnearby   1887 non-null   float64\n",
      " 11  refugees     1887 non-null   int64  \n",
      " 12  logrefugees  1887 non-null   float64\n",
      "dtypes: float64(2), int64(9), object(2)\n",
      "memory usage: 206.4+ KB\n"
     ]
    }
   ],
   "source": [
    "final_data = mar_complete.reset_index().merge(unchr, how='right', \n",
    "                                              on=['country', 'year'])\n",
    "final_data.info()"
   ]
  },
  {
   "cell_type": "code",
   "execution_count": 58,
   "metadata": {},
   "outputs": [
    {
     "name": "stdout",
     "output_type": "stream",
     "text": [
      "<class 'pandas.core.frame.DataFrame'>\n",
      "RangeIndex: 17228 entries, 0 to 17227\n",
      "Data columns (total 3 columns):\n",
      " #   Column     Non-Null Count  Dtype \n",
      "---  ------     --------------  ----- \n",
      " 0   ccode      17228 non-null  int64 \n",
      " 1   year       17228 non-null  int64 \n",
      " 2   democracy  17228 non-null  object\n",
      "dtypes: int64(2), object(1)\n",
      "memory usage: 403.9+ KB\n"
     ]
    }
   ],
   "source": [
    "polity_raw = pd.read_csv('Polity IV.csv', sep=';', low_memory=False)\n",
    "polity = polity_raw.reindex(columns=['ccode', 'year', 'polity2'])\n",
    "polity = polity.rename(columns={'polity2': 'democracy'})\n",
    "polity.info()"
   ]
  },
  {
   "cell_type": "code",
   "execution_count": 59,
   "metadata": {},
   "outputs": [
    {
     "data": {
      "text/plain": [
       "array([1990, 1991, 1992, 1993, 1994, 1995, 1996, 1997, 1998, 1999, 2000,\n",
       "       2001, 2002, 2003, 2004, 2005, 2006], dtype=int64)"
      ]
     },
     "execution_count": 59,
     "metadata": {},
     "output_type": "execute_result"
    }
   ],
   "source": [
    "polity = polity[polity['year'] > 1989]\n",
    "polity = polity[polity['year'] < 2007]\n",
    "polity.year.unique()"
   ]
  },
  {
   "cell_type": "code",
   "execution_count": 60,
   "metadata": {},
   "outputs": [
    {
     "data": {
      "text/plain": [
       "array([ -8,   0,  -7,   1,   5,   7,   9,  -2,  -3,   2,  -1,   8,   3,\n",
       "        -6,  10, -10,  -9,   6,  -5,  -4,   4], dtype=int64)"
      ]
     },
     "execution_count": 60,
     "metadata": {},
     "output_type": "execute_result"
    }
   ],
   "source": [
    "polity = polity[polity.democracy != ' ']\n",
    "polity.democracy = polity.democracy.astype('int64')\n",
    "polity.democracy.unique()"
   ]
  },
  {
   "cell_type": "code",
   "execution_count": 61,
   "metadata": {},
   "outputs": [
    {
     "data": {
      "text/plain": [
       "1990    144\n",
       "1991    160\n",
       "1992    160\n",
       "1993    163\n",
       "1994    162\n",
       "1995    161\n",
       "1996    161\n",
       "1997    161\n",
       "1998    161\n",
       "1999    161\n",
       "2000    161\n",
       "2001    160\n",
       "2002    161\n",
       "2003    159\n",
       "2004    160\n",
       "2005    161\n",
       "2006    163\n",
       "Name: year, dtype: int64"
      ]
     },
     "execution_count": 61,
     "metadata": {},
     "output_type": "execute_result"
    }
   ],
   "source": [
    "polity.year.value_counts().sort_index(ascending=True)"
   ]
  },
  {
   "cell_type": "code",
   "execution_count": 62,
   "metadata": {},
   "outputs": [
    {
     "data": {
      "text/plain": [
       "1990    134\n",
       "1991    134\n",
       "1992    134\n",
       "1993    134\n",
       "1994    134\n",
       "1995    134\n",
       "1996    134\n",
       "1997    134\n",
       "1998    134\n",
       "1999    134\n",
       "2000    134\n",
       "2001    134\n",
       "2002    134\n",
       "2003    134\n",
       "2004    134\n",
       "2005    134\n",
       "2006    134\n",
       "Name: year, dtype: int64"
      ]
     },
     "execution_count": 62,
     "metadata": {},
     "output_type": "execute_result"
    }
   ],
   "source": [
    "full_years = []\n",
    "for ccode in polity.ccode.value_counts().index:\n",
    "    if polity.ccode.value_counts()[ccode] == 17:\n",
    "        full_years.append(ccode)\n",
    "\n",
    "polity = polity[polity['ccode'].isin(full_years)]\n",
    "polity.year.value_counts().sort_index(ascending=True)"
   ]
  },
  {
   "cell_type": "code",
   "execution_count": 63,
   "metadata": {},
   "outputs": [
    {
     "name": "stdout",
     "output_type": "stream",
     "text": [
      "<class 'pandas.core.frame.DataFrame'>\n",
      "Int64Index: 1785 entries, 0 to 1784\n",
      "Data columns (total 14 columns):\n",
      " #   Column       Non-Null Count  Dtype  \n",
      "---  ------       --------------  -----  \n",
      " 0   numcode      1785 non-null   int64  \n",
      " 1   ccode        1785 non-null   int64  \n",
      " 2   group        1785 non-null   object \n",
      " 3   country      1785 non-null   object \n",
      " 4   region       1785 non-null   int64  \n",
      " 5   year         1785 non-null   int64  \n",
      " 6   prot         1785 non-null   int64  \n",
      " 7   ecdis        1785 non-null   int64  \n",
      " 8   poldis       1785 non-null   int64  \n",
      " 9   kindred      1785 non-null   int64  \n",
      " 10  protnearby   1785 non-null   float64\n",
      " 11  refugees     1785 non-null   int64  \n",
      " 12  logrefugees  1785 non-null   float64\n",
      " 13  democracy    1785 non-null   int64  \n",
      "dtypes: float64(2), int64(10), object(2)\n",
      "memory usage: 209.2+ KB\n"
     ]
    }
   ],
   "source": [
    "final_data = final_data.merge(polity, how='inner', on=['ccode', 'year'])\n",
    "final_data.info()"
   ]
  },
  {
   "cell_type": "code",
   "execution_count": 64,
   "metadata": {},
   "outputs": [
    {
     "name": "stdout",
     "output_type": "stream",
     "text": [
      "<class 'pandas.core.frame.DataFrame'>\n",
      "RangeIndex: 15312 entries, 0 to 15311\n",
      "Data columns (total 3 columns):\n",
      " #   Column   Non-Null Count  Dtype \n",
      "---  ------   --------------  ----- \n",
      " 0   country  15312 non-null  object\n",
      " 1   year     15312 non-null  object\n",
      " 2   GDP      15312 non-null  object\n",
      "dtypes: object(3)\n",
      "memory usage: 359.0+ KB\n"
     ]
    }
   ],
   "source": [
    "worldbank_raw = pd.read_csv('GDP per capita.csv', sep=';',low_memory=False)\n",
    "worldbank = worldbank_raw.drop(columns=['IndicatorName', 'IndicatorCode', 'CountryCode'])\n",
    "worldbank = worldbank.melt(id_vars='CountryName')\n",
    "worldbank = worldbank.reindex(columns=['CountryName', 'variable', 'value'])\n",
    "worldbank = worldbank.rename(columns={'CountryName': 'country', \n",
    "                                      'variable': 'year', \n",
    "                                      'value': 'GDP'})\n",
    "worldbank.info()"
   ]
  },
  {
   "cell_type": "code",
   "execution_count": 65,
   "metadata": {},
   "outputs": [
    {
     "data": {
      "text/plain": [
       "array([1990, 1991, 1992, 1993, 1994, 1995, 1996, 1997, 1998, 1999, 2000,\n",
       "       2001, 2002, 2003, 2004, 2005, 2006], dtype=int64)"
      ]
     },
     "execution_count": 65,
     "metadata": {},
     "output_type": "execute_result"
    }
   ],
   "source": [
    "worldbank.year = worldbank.year.str.lstrip('@').astype('int64')\n",
    "worldbank = worldbank[worldbank['year'] > 1989]\n",
    "worldbank = worldbank[worldbank['year'] < 2007]\n",
    "worldbank.year.unique()"
   ]
  },
  {
   "cell_type": "code",
   "execution_count": 66,
   "metadata": {},
   "outputs": [
    {
     "data": {
      "text/plain": [
       "array(False)"
      ]
     },
     "execution_count": 66,
     "metadata": {},
     "output_type": "execute_result"
    }
   ],
   "source": [
    "worldbank = worldbank[worldbank.GDP != ' ']\n",
    "np.isin(\" \", worldbank.GDP.unique())"
   ]
  },
  {
   "cell_type": "code",
   "execution_count": 67,
   "metadata": {},
   "outputs": [
    {
     "data": {
      "text/plain": [
       "Afghanistan            6\n",
       "Albania               17\n",
       "Algeria               17\n",
       "American Samoa         5\n",
       "Andorra               17\n",
       "                      ..\n",
       "West Bank and Gaza    13\n",
       "World                 17\n",
       "Yemen, Rep.           17\n",
       "Zambia                17\n",
       "Zimbabwe              17\n",
       "Name: country, Length: 253, dtype: int64"
      ]
     },
     "execution_count": 67,
     "metadata": {},
     "output_type": "execute_result"
    }
   ],
   "source": [
    "worldbank.country.value_counts().sort_index(ascending=True)"
   ]
  },
  {
   "cell_type": "code",
   "execution_count": 68,
   "metadata": {},
   "outputs": [
    {
     "data": {
      "text/plain": [
       "Albania                17\n",
       "Algeria                17\n",
       "Andorra                17\n",
       "Angola                 17\n",
       "Antigua and Barbuda    17\n",
       "                       ..\n",
       "Vietnam                17\n",
       "World                  17\n",
       "Yemen, Rep.            17\n",
       "Zambia                 17\n",
       "Zimbabwe               17\n",
       "Name: country, Length: 216, dtype: int64"
      ]
     },
     "execution_count": 68,
     "metadata": {},
     "output_type": "execute_result"
    }
   ],
   "source": [
    "full_years = []\n",
    "for country in worldbank.country.value_counts().index:\n",
    "    if worldbank.country.value_counts()[country] == 17:\n",
    "        full_years.append(country)\n",
    "\n",
    "worldbank = worldbank[worldbank['country'].isin(full_years)]\n",
    "worldbank.country.value_counts().sort_index(ascending=True)"
   ]
  },
  {
   "cell_type": "code",
   "execution_count": 69,
   "metadata": {},
   "outputs": [
    {
     "data": {
      "text/plain": [
       "count      3672.000000\n",
       "mean       7813.077023\n",
       "std       13626.270943\n",
       "min          65.011416\n",
       "25%         609.116060\n",
       "50%        2032.312954\n",
       "75%        7672.450920\n",
       "max      135535.002415\n",
       "Name: GDP, dtype: float64"
      ]
     },
     "execution_count": 69,
     "metadata": {},
     "output_type": "execute_result"
    }
   ],
   "source": [
    "worldbank.GDP = worldbank.GDP.str.replace(',','.')\n",
    "worldbank.GDP = worldbank.GDP.astype('float64')\n",
    "worldbank.GDP.describe()"
   ]
  },
  {
   "cell_type": "code",
   "execution_count": 70,
   "metadata": {},
   "outputs": [
    {
     "name": "stdout",
     "output_type": "stream",
     "text": [
      "47\n",
      "169\n"
     ]
    }
   ],
   "source": [
    "qualified_countries = []\n",
    "disqualified_countries = []\n",
    "\n",
    "for country in worldbank.country.unique():\n",
    "    if country in final_data.country.unique():\n",
    "        qualified_countries.append(country)\n",
    "    else:\n",
    "        disqualified_countries.append(country)\n",
    "\n",
    "print(len(qualified_countries))\n",
    "print(len(disqualified_countries))"
   ]
  },
  {
   "cell_type": "code",
   "execution_count": 71,
   "metadata": {},
   "outputs": [
    {
     "data": {
      "text/plain": [
       "array(['Dem. Rep. of the Congo', 'Egypt', 'Hungary', 'Iran',\n",
       "       'United States of America', 'Venezuela'], dtype='<U24')"
      ]
     },
     "execution_count": 71,
     "metadata": {},
     "output_type": "execute_result"
    }
   ],
   "source": [
    "remaining_countries = []\n",
    "for country in final_data.country.unique():\n",
    "    if country not in qualified_countries:\n",
    "        remaining_countries.append(country)\n",
    "\n",
    "np.sort(remaining_countries)"
   ]
  },
  {
   "cell_type": "code",
   "execution_count": 72,
   "metadata": {},
   "outputs": [
    {
     "name": "stdout",
     "output_type": "stream",
     "text": [
      "51\n",
      "165\n"
     ]
    }
   ],
   "source": [
    "def rename_country2(old, new):\n",
    "    worldbank.loc[worldbank.country.str.contains(old, regex=False),'country'] = new\n",
    "    \n",
    "rename_country2('Congo, Dem. Rep.', 'Dem. Rep. of the Congo')\n",
    "rename_country2('Egypt, Arab Rep.', 'Egypt')\n",
    "rename_country2('United States', 'United States of America')\n",
    "rename_country2('Venezuela, RB', 'Venezuela')\n",
    "\n",
    "qualified_countries = []\n",
    "disqualified_countries = []\n",
    "\n",
    "for country in worldbank.country.unique():\n",
    "    if country in final_data.country.unique():\n",
    "        qualified_countries.append(country)\n",
    "    else:\n",
    "        disqualified_countries.append(country)\n",
    "\n",
    "print(len(qualified_countries))\n",
    "print(len(disqualified_countries))"
   ]
  },
  {
   "cell_type": "code",
   "execution_count": 73,
   "metadata": {
    "scrolled": false
   },
   "outputs": [
    {
     "data": {
      "text/plain": [
       "51"
      ]
     },
     "execution_count": 73,
     "metadata": {},
     "output_type": "execute_result"
    }
   ],
   "source": [
    "worldbank = worldbank[worldbank['country'].isin(qualified_countries)]\n",
    "len(worldbank.country.unique())"
   ]
  },
  {
   "cell_type": "code",
   "execution_count": 74,
   "metadata": {
    "scrolled": true
   },
   "outputs": [
    {
     "name": "stdout",
     "output_type": "stream",
     "text": [
      "<class 'pandas.core.frame.DataFrame'>\n",
      "Int64Index: 1734 entries, 0 to 1733\n",
      "Data columns (total 15 columns):\n",
      " #   Column       Non-Null Count  Dtype  \n",
      "---  ------       --------------  -----  \n",
      " 0   numcode      1734 non-null   int64  \n",
      " 1   ccode        1734 non-null   int64  \n",
      " 2   group        1734 non-null   object \n",
      " 3   country      1734 non-null   object \n",
      " 4   region       1734 non-null   int64  \n",
      " 5   year         1734 non-null   int64  \n",
      " 6   prot         1734 non-null   int64  \n",
      " 7   ecdis        1734 non-null   int64  \n",
      " 8   poldis       1734 non-null   int64  \n",
      " 9   kindred      1734 non-null   int64  \n",
      " 10  protnearby   1734 non-null   float64\n",
      " 11  refugees     1734 non-null   int64  \n",
      " 12  logrefugees  1734 non-null   float64\n",
      " 13  democracy    1734 non-null   int64  \n",
      " 14  GDP          1734 non-null   float64\n",
      "dtypes: float64(3), int64(10), object(2)\n",
      "memory usage: 216.8+ KB\n"
     ]
    }
   ],
   "source": [
    "final_data = final_data.merge(worldbank, how='inner', on=['country', 'year'])\n",
    "final_data.info()"
   ]
  },
  {
   "cell_type": "code",
   "execution_count": 75,
   "metadata": {},
   "outputs": [
    {
     "name": "stdout",
     "output_type": "stream",
     "text": [
      "<class 'pandas.core.frame.DataFrame'>\n",
      "Int64Index: 1632 entries, 1 to 1733\n",
      "Data columns (total 16 columns):\n",
      " #   Column       Non-Null Count  Dtype  \n",
      "---  ------       --------------  -----  \n",
      " 0   numcode      1632 non-null   int64  \n",
      " 1   group        1632 non-null   object \n",
      " 2   ccode        1632 non-null   int64  \n",
      " 3   country      1632 non-null   object \n",
      " 4   year         1632 non-null   int64  \n",
      " 5   prot         1632 non-null   int64  \n",
      " 6   protlag      1632 non-null   int64  \n",
      " 7   protnearby   1632 non-null   float64\n",
      " 8   kindred      1632 non-null   int64  \n",
      " 9   refugees     1632 non-null   int64  \n",
      " 10  logrefugees  1632 non-null   float64\n",
      " 11  ecdis        1632 non-null   int64  \n",
      " 12  poldis       1632 non-null   int64  \n",
      " 13  democracy    1632 non-null   int64  \n",
      " 14  GDP          1632 non-null   float64\n",
      " 15  region       1632 non-null   int64  \n",
      "dtypes: float64(3), int64(11), object(2)\n",
      "memory usage: 216.8+ KB\n"
     ]
    }
   ],
   "source": [
    "final_data['protlag'] = final_data.prot.shift(1)\n",
    "final_data = final_data[final_data['year'] != 1990]\n",
    "final_data.protlag = final_data.protlag.astype('int64')\n",
    "final_data = final_data.reindex(columns=['numcode', 'group', 'ccode', \n",
    "                                         'country', 'year', 'prot', \n",
    "                                         'protlag','protnearby', 'kindred', \n",
    "                                         'refugees','logrefugees', 'ecdis',\n",
    "                                         'poldis', 'democracy', 'GDP', 'region'])\n",
    "final_data.to_csv('final_data.csv', sep=';')\n",
    "final_data.info()"
   ]
  },
  {
   "cell_type": "code",
   "execution_count": 76,
   "metadata": {},
   "outputs": [
    {
     "data": {
      "text/html": [
       "<div>\n",
       "<style scoped>\n",
       "    .dataframe tbody tr th:only-of-type {\n",
       "        vertical-align: middle;\n",
       "    }\n",
       "\n",
       "    .dataframe tbody tr th {\n",
       "        vertical-align: top;\n",
       "    }\n",
       "\n",
       "    .dataframe thead th {\n",
       "        text-align: right;\n",
       "    }\n",
       "</style>\n",
       "<table border=\"1\" class=\"dataframe\">\n",
       "  <thead>\n",
       "    <tr style=\"text-align: right;\">\n",
       "      <th></th>\n",
       "      <th>Group</th>\n",
       "    </tr>\n",
       "  </thead>\n",
       "  <tbody>\n",
       "    <tr>\n",
       "      <th>Group</th>\n",
       "      <td>0.456259</td>\n",
       "    </tr>\n",
       "  </tbody>\n",
       "</table>\n",
       "</div>"
      ],
      "text/plain": [
       "          Group\n",
       "Group  0.456259"
      ]
     },
     "execution_count": 76,
     "metadata": {},
     "output_type": "execute_result"
    }
   ],
   "source": [
    "import statsmodels.api as sm\n",
    "import statsmodels.formula.api as smf\n",
    "\n",
    "results_icc = smf.mixedlm('prot ~ numcode', data=final_data, \n",
    "                          groups=final_data.numcode).fit()\n",
    "results_icc.cov_re / (results_icc.cov_re + results_icc.scale)"
   ]
  },
  {
   "cell_type": "code",
   "execution_count": 77,
   "metadata": {},
   "outputs": [],
   "source": [
    "model = smf.mixedlm('prot ~ 1 + protlag + protnearby + kindred +\\\n",
    "                     logrefugees + kindred*logrefugees + ecdis +\\\n",
    "                     poldis + ecdis*poldis + democracy + GDP',\n",
    "                     data=final_data,\n",
    "                     groups='numcode')\n",
    "results = model.fit()"
   ]
  },
  {
   "cell_type": "code",
   "execution_count": 78,
   "metadata": {},
   "outputs": [
    {
     "data": {
      "text/plain": [
       "Text(0.5, 1.0, 'Scatter plot of residual and predicted values of prot')"
      ]
     },
     "execution_count": 78,
     "metadata": {},
     "output_type": "execute_result"
    },
    {
     "data": {
      "image/png": "[encoded data removed]",
      "text/plain": [
       "<Figure size 360x360 with 1 Axes>"
      ]
     },
     "metadata": {
      "needs_background": "light"
     },
     "output_type": "display_data"
    }
   ],
   "source": [
    "import matplotlib.pyplot as plt\n",
    "\n",
    "pred_val = results.fittedvalues\n",
    "true_val = final_data.prot.values.copy()\n",
    "residual = true_val - pred_val\n",
    "\n",
    "fig, ax = plt.subplots(figsize=(5,5))\n",
    "ax.scatter(residual, pred_val)\n",
    "plt.title(\"Scatter plot of residual and predicted values of prot\")"
   ]
  },
  {
   "cell_type": "code",
   "execution_count": 79,
   "metadata": {},
   "outputs": [
    {
     "name": "stdout",
     "output_type": "stream",
     "text": [
      "             VIF\n",
      "protnearby  4.97\n",
      "kindred     2.93\n",
      "refugees    1.25\n",
      "ecdis       5.00\n",
      "poldis      4.39\n"
     ]
    }
   ],
   "source": [
    "from statsmodels.stats.outliers_influence import variance_inflation_factor\n",
    "\n",
    "vifvars = final_data.reindex(columns=['protnearby','kindred', 'refugees', 'ecdis', 'poldis'])\n",
    "\n",
    "vif = pd.DataFrame()\n",
    "vif[\"VIF\"] = [variance_inflation_factor(vifvars.values, i) for i in range(vifvars.shape[1])]\n",
    "print(vif.set_index(vifvars.columns).round(2))"
   ]
  },
  {
   "cell_type": "code",
   "execution_count": 80,
   "metadata": {},
   "outputs": [
    {
     "data": {
      "text/html": [
       "<table class=\"simpletable\">\n",
       "<tr>\n",
       "       <td>Model:</td>       <td>MixedLM</td> <td>Dependent Variable:</td>    <td>prot</td>   \n",
       "</tr>\n",
       "<tr>\n",
       "  <td>No. Observations:</td>  <td>1632</td>         <td>Method:</td>          <td>REML</td>   \n",
       "</tr>\n",
       "<tr>\n",
       "     <td>No. Groups:</td>      <td>102</td>         <td>Scale:</td>          <td>1.0786</td>  \n",
       "</tr>\n",
       "<tr>\n",
       "  <td>Min. group size:</td>    <td>16</td>      <td>Log-Likelihood:</td>   <td>-2537.1985</td>\n",
       "</tr>\n",
       "<tr>\n",
       "  <td>Max. group size:</td>    <td>16</td>        <td>Converged:</td>          <td>Yes</td>   \n",
       "</tr>\n",
       "<tr>\n",
       "  <td>Mean group size:</td>   <td>16.0</td>            <td></td>                <td></td>     \n",
       "</tr>\n",
       "</table>\n",
       "<table class=\"simpletable\">\n",
       "<tr>\n",
       "           <td></td>            <th>Coef.</th> <th>Std.Err.</th>    <th>z</th>   <th>P>|z|</th> <th>[0.025</th> <th>0.975]</th>\n",
       "</tr>\n",
       "<tr>\n",
       "  <th>Intercept</th>           <td>-0.307</td>   <td>0.475</td>  <td>-0.647</td> <td>0.518</td> <td>-1.239</td>  <td>0.624</td>\n",
       "</tr>\n",
       "<tr>\n",
       "  <th>protlag</th>              <td>0.089</td>   <td>0.025</td>   <td>3.592</td> <td>0.000</td>  <td>0.041</td>  <td>0.138</td>\n",
       "</tr>\n",
       "<tr>\n",
       "  <th>protnearby</th>           <td>0.628</td>   <td>0.091</td>   <td>6.906</td> <td>0.000</td>  <td>0.449</td>  <td>0.806</td>\n",
       "</tr>\n",
       "<tr>\n",
       "  <th>kindred</th>             <td>-0.052</td>   <td>0.262</td>  <td>-0.200</td> <td>0.841</td> <td>-0.565</td>  <td>0.460</td>\n",
       "</tr>\n",
       "<tr>\n",
       "  <th>logrefugees</th>          <td>0.043</td>   <td>0.042</td>   <td>1.036</td> <td>0.300</td> <td>-0.039</td>  <td>0.126</td>\n",
       "</tr>\n",
       "<tr>\n",
       "  <th>kindred:logrefugees</th> <td>-0.004</td>   <td>0.025</td>  <td>-0.151</td> <td>0.880</td> <td>-0.052</td>  <td>0.045</td>\n",
       "</tr>\n",
       "<tr>\n",
       "  <th>ecdis</th>                <td>0.163</td>   <td>0.071</td>   <td>2.301</td> <td>0.021</td>  <td>0.024</td>  <td>0.302</td>\n",
       "</tr>\n",
       "<tr>\n",
       "  <th>poldis</th>               <td>0.248</td>   <td>0.066</td>   <td>3.789</td> <td>0.000</td>  <td>0.120</td>  <td>0.377</td>\n",
       "</tr>\n",
       "<tr>\n",
       "  <th>ecdis:poldis</th>        <td>-0.076</td>   <td>0.025</td>  <td>-3.044</td> <td>0.002</td> <td>-0.125</td> <td>-0.027</td>\n",
       "</tr>\n",
       "<tr>\n",
       "  <th>democracy</th>            <td>0.039</td>   <td>0.009</td>   <td>4.588</td> <td>0.000</td>  <td>0.023</td>  <td>0.056</td>\n",
       "</tr>\n",
       "<tr>\n",
       "  <th>GDP</th>                 <td>-0.000</td>   <td>0.000</td>  <td>-1.707</td> <td>0.088</td> <td>-0.000</td>  <td>0.000</td>\n",
       "</tr>\n",
       "<tr>\n",
       "  <th>numcode Var</th>          <td>0.799</td>   <td>0.125</td>     <td></td>      <td></td>       <td></td>       <td></td>   \n",
       "</tr>\n",
       "</table>"
      ],
      "text/plain": [
       "<class 'statsmodels.iolib.summary2.Summary'>\n",
       "\"\"\"\n",
       "            Mixed Linear Model Regression Results\n",
       "==============================================================\n",
       "Model:              MixedLM   Dependent Variable:   prot      \n",
       "No. Observations:   1632      Method:               REML      \n",
       "No. Groups:         102       Scale:                1.0786    \n",
       "Min. group size:    16        Log-Likelihood:       -2537.1985\n",
       "Max. group size:    16        Converged:            Yes       \n",
       "Mean group size:    16.0                                      \n",
       "--------------------------------------------------------------\n",
       "                    Coef.  Std.Err.   z    P>|z| [0.025 0.975]\n",
       "--------------------------------------------------------------\n",
       "Intercept           -0.307    0.475 -0.647 0.518 -1.239  0.624\n",
       "protlag              0.089    0.025  3.592 0.000  0.041  0.138\n",
       "protnearby           0.628    0.091  6.906 0.000  0.449  0.806\n",
       "kindred             -0.052    0.262 -0.200 0.841 -0.565  0.460\n",
       "logrefugees          0.043    0.042  1.036 0.300 -0.039  0.126\n",
       "kindred:logrefugees -0.004    0.025 -0.151 0.880 -0.052  0.045\n",
       "ecdis                0.163    0.071  2.301 0.021  0.024  0.302\n",
       "poldis               0.248    0.066  3.789 0.000  0.120  0.377\n",
       "ecdis:poldis        -0.076    0.025 -3.044 0.002 -0.125 -0.027\n",
       "democracy            0.039    0.009  4.588 0.000  0.023  0.056\n",
       "GDP                 -0.000    0.000 -1.707 0.088 -0.000  0.000\n",
       "numcode Var          0.799    0.125                           \n",
       "==============================================================\n",
       "\n",
       "\"\"\""
      ]
     },
     "execution_count": 80,
     "metadata": {},
     "output_type": "execute_result"
    }
   ],
   "source": [
    "results.summary()"
   ]
  },
  {
   "cell_type": "code",
   "execution_count": 81,
   "metadata": {},
   "outputs": [],
   "source": [
    "# eafea"
   ]
  }
 ],
 "metadata": {
  "kernelspec": {
   "display_name": "Python 3",
   "language": "python",
   "name": "python3"
  },
  "language_info": {
   "codemirror_mode": {
    "name": "ipython",
    "version": 3
   },
   "file_extension": ".py",
   "mimetype": "text/x-python",
   "name": "python",
   "nbconvert_exporter": "python",
   "pygments_lexer": "ipython3",
   "version": "3.7.6"
  }
 },
 "nbformat": 4,
 "nbformat_minor": 4
}
